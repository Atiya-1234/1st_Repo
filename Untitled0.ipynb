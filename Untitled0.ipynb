{
  "nbformat": 4,
  "nbformat_minor": 0,
  "metadata": {
    "colab": {
      "provenance": [],
      "mount_file_id": "1i08EBnhq6EaWrK2-kPxUaxGG3-MEhmgZ",
      "authorship_tag": "ABX9TyMMLw1d6hxB3yAf5e8wVIIh",
      "include_colab_link": true
    },
    "kernelspec": {
      "name": "python3",
      "display_name": "Python 3"
    },
    "language_info": {
      "name": "python"
    }
  },
  "cells": [
    {
      "cell_type": "markdown",
      "metadata": {
        "id": "view-in-github",
        "colab_type": "text"
      },
      "source": [
        "<a href=\"https://colab.research.google.com/github/Atiya-1234/1st_Repo/blob/main/Untitled0.ipynb\" target=\"_parent\"><img src=\"https://colab.research.google.com/assets/colab-badge.svg\" alt=\"Open In Colab\"/></a>"
      ]
    },
    {
      "cell_type": "markdown",
      "source": [],
      "metadata": {
        "id": "w6dfozpBkN85"
      }
    },
    {
      "cell_type": "code",
      "source": [
        "questions = [  [    \"Which language was used to create fb?\", \"Python\", \"French\", \"JavaScript\", \"Php\", \"None\", 4\n",
        "  ],\n",
        "  [\n",
        "    \"Which language was used to create fb?\", \"Python\", \"French\", \"JavaScript\",\n",
        "    \"Php\", \"None\", 4\n",
        "  ],\n",
        "  [\n",
        "    \"Which language was used to create fb?\", \"Python\", \"French\", \"JavaScript\",\n",
        "    \"Php\", \"None\", 4\n",
        "  ],\n",
        "  [\n",
        "    \"Which language was used to create fb?\", \"Python\", \"French\", \"JavaScript\",\n",
        "    \"Php\", \"None\", 4\n",
        "  ],\n",
        "  [\n",
        "    \"Which language was used to create fb?\", \"Python\", \"French\", \"JavaScript\",\n",
        "    \"Php\", \"None\", 4\n",
        "  ],\n",
        "  [\n",
        "    \"Which language was used to create fb?\", \"Python\", \"French\", \"JavaScript\",\n",
        "    \"Php\", \"None\", 4\n",
        "  ],\n",
        "  [\n",
        "    \"Which language was used to create fb?\", \"Python\", \"French\", \"JavaScript\",\n",
        "    \"Php\", \"None\", 4\n",
        "  ],\n",
        "  [\n",
        "    \"Which language was used to create fb?\", \"Python\", \"French\", \"JavaScript\",\n",
        "    \"Php\", \"None\", 4\n",
        "  ],\n",
        "  [\n",
        "    \"Which language was used to create fb?\", \"Python\", \"French\", \"JavaScript\",\n",
        "    \"Php\", \"None\", 4\n",
        "  ],\n",
        "  [\n",
        "    \"Which language was used to create fb?\", \"Python\", \"French\", \"JavaScript\",\n",
        "    \"Php\", \"None\", 4\n",
        "  ],\n",
        "  [\n",
        "    \"Which language was used to create fb?\", \"Python\", \"French\", \"JavaScript\",\n",
        "    \"Php\", \"None\", 4\n",
        "  ],\n",
        "  [\n",
        "    \"Which language was used to create fb?\", \"Python\", \"French\", \"JavaScript\",\n",
        "    \"Php\", \"None\", 4\n",
        "  ],\n",
        "  [\n",
        "    \"Which language was used to create fb?\", \"Python\", \"French\", \"JavaScript\",\n",
        "    \"Php\", \"None\", 4\n",
        "  ],\n",
        "  [\n",
        "    \"Which language was used to create fb?\", \"Python\", \"French\", \"JavaScript\",\n",
        "    \"Php\", \"None\", 4\n",
        "  ],\n",
        "  [\n",
        "    \"Which language was used to create fb?\", \"Python\", \"French\", \"JavaScript\",\n",
        "    \"Php\", \"None\", 4\n",
        "  ],\n",
        "  [\n",
        "    \"Which language was used to create fb?\", \"Python\", \"French\", \"JavaScript\",\n",
        "    \"Php\", \"None\", 4\n",
        "  ],\n",
        "  [\n",
        "    \"Which language was used to create fb?\", \"Python\", \"French\", \"JavaScript\",\n",
        "    \"Php\", \"None\", 4\n",
        "  ],\n",
        "  [\n",
        "    \"Which language was used to create fb?\", \"Python\", \"French\", \"JavaScript\",\n",
        "    \"Php\", \"None\", 4\n",
        "  ],\n",
        "  [\n",
        "    \"Which language was used to create fb?\", \"Python\", \"French\", \"JavaScript\",\n",
        "    \"Php\", \"None\", 4\n",
        "  ],\n",
        "  [\n",
        "    \"Which language was used to create fb?\", \"Python\", \"French\", \"JavaScript\",\n",
        "    \"Php\", \"None\", 4\n",
        "  ],\n",
        "  [\n",
        "    \"Which language was used to create fb?\", \"Python\", \"French\", \"JavaScript\",\n",
        "    \"Php\", \"None\", 4\n",
        "  ],\n",
        "  [\n",
        "    \"Which language was used to create fb?\", \"Python\", \"French\", \"JavaScript\",\n",
        "    \"Php\", \"None\", 4\n",
        "  ],\n",
        "  [\n",
        "    \"Which language was used to create fb?\", \"Python\", \"French\", \"JavaScript\",\n",
        "    \"Php\", \"None\", 4\n",
        "  ],\n",
        "  [\n",
        "    \"Which language was used to create fb?\", \"Python\", \"French\", \"JavaScript\",\n",
        "    \"Php\", \"None\", 4\n",
        "  ],\n",
        "]\n",
        "levels=[1000, 2000, 3000, 4000, 5000, 6000, 7000, 8000, 9000, 10000]\n",
        "money=0\n",
        "for i in range(0, len('questions')):\n",
        "    question=questions[i]\n",
        "    print(f\"Question of Rs. {levels[i]}\")\n",
        "    print(f\"a. {question[1]}                b. {question[2]}\")\n",
        "    print(f\"c. {question[3]}                d. {question[4]}\")\n",
        "    reply=int(input(\"Enter your answer (1-4)\"))\n",
        "    if reply==question[-1]:\n",
        "        print(f\"\\nCorrect answer, you have won {levels[i]}\")\n",
        "        if i==4:\n",
        "            money=4000\n",
        "        elif i==7:\n",
        "            money=7000\n",
        "        elif i==10:\n",
        "            money=10000\n",
        "\n",
        "    else:\n",
        "        print(\"Wrong Answer!\")\n",
        "        break\n",
        "print(f\"Your take home money is {money}\")\n",
        "\n"
      ],
      "metadata": {
        "id": "Q-B1MorMkOfB",
        "colab": {
          "base_uri": "https://localhost:8080/"
        },
        "outputId": "4b5a5214-03a6-43bb-f3ac-9f0bf6c8f574"
      },
      "execution_count": null,
      "outputs": [
        {
          "metadata": {
            "tags": null
          },
          "name": "stdout",
          "output_type": "stream",
          "text": [
            "Question of Rs. 1000\n",
            "a. Python                b. French\n",
            "c. JavaScript                d. Php\n"
          ]
        }
      ]
    },
    {
      "cell_type": "code",
      "source": [],
      "metadata": {
        "id": "wCx1bUkmkNDe"
      },
      "execution_count": null,
      "outputs": []
    }
  ]
}